{
  "nbformat": 4,
  "nbformat_minor": 0,
  "metadata": {
    "colab": {
      "name": "Linear_Regression_Homomorphic_Encryption.ipynb",
      "provenance": [],
      "collapsed_sections": []
    },
    "kernelspec": {
      "name": "python3",
      "display_name": "Python 3"
    }
  },
  "cells": [
    {
      "cell_type": "code",
      "metadata": {
        "id": "fok5OZAByV_I"
      },
      "source": [
        "import matplotlib.pyplot as plt\n",
        "import numpy as np\n",
        "from sklearn import datasets, linear_model\n",
        "from sklearn.metrics import mean_squared_error, r2_score"
      ],
      "execution_count": 3,
      "outputs": []
    },
    {
      "cell_type": "code",
      "metadata": {
        "id": "zv9tZHU6nOIM",
        "outputId": "56fde42d-91f1-4370-d10b-39d8f9ba6cbc",
        "colab": {
          "base_uri": "https://localhost:8080/"
        }
      },
      "source": [
        "# Load the diabetes dataset\n",
        "data_X, data_y = datasets.load_diabetes(return_X_y=True)\n",
        "print(data_X)\n",
        "print(data_y)"
      ],
      "execution_count": 4,
      "outputs": [
        {
          "output_type": "stream",
          "text": [
            "[[ 0.03807591  0.05068012  0.06169621 ... -0.00259226  0.01990842\n",
            "  -0.01764613]\n",
            " [-0.00188202 -0.04464164 -0.05147406 ... -0.03949338 -0.06832974\n",
            "  -0.09220405]\n",
            " [ 0.08529891  0.05068012  0.04445121 ... -0.00259226  0.00286377\n",
            "  -0.02593034]\n",
            " ...\n",
            " [ 0.04170844  0.05068012 -0.01590626 ... -0.01107952 -0.04687948\n",
            "   0.01549073]\n",
            " [-0.04547248 -0.04464164  0.03906215 ...  0.02655962  0.04452837\n",
            "  -0.02593034]\n",
            " [-0.04547248 -0.04464164 -0.0730303  ... -0.03949338 -0.00421986\n",
            "   0.00306441]]\n",
            "[151.  75. 141. 206. 135.  97. 138.  63. 110. 310. 101.  69. 179. 185.\n",
            " 118. 171. 166. 144.  97. 168.  68.  49.  68. 245. 184. 202. 137.  85.\n",
            " 131. 283. 129.  59. 341.  87.  65. 102. 265. 276. 252.  90. 100.  55.\n",
            "  61.  92. 259.  53. 190. 142.  75. 142. 155. 225.  59. 104. 182. 128.\n",
            "  52.  37. 170. 170.  61. 144.  52. 128.  71. 163. 150.  97. 160. 178.\n",
            "  48. 270. 202. 111.  85.  42. 170. 200. 252. 113. 143.  51.  52. 210.\n",
            "  65. 141.  55. 134.  42. 111.  98. 164.  48.  96.  90. 162. 150. 279.\n",
            "  92.  83. 128. 102. 302. 198.  95.  53. 134. 144. 232.  81. 104.  59.\n",
            " 246. 297. 258. 229. 275. 281. 179. 200. 200. 173. 180.  84. 121. 161.\n",
            "  99. 109. 115. 268. 274. 158. 107.  83. 103. 272.  85. 280. 336. 281.\n",
            " 118. 317. 235.  60. 174. 259. 178. 128.  96. 126. 288.  88. 292.  71.\n",
            " 197. 186.  25.  84.  96. 195.  53. 217. 172. 131. 214.  59.  70. 220.\n",
            " 268. 152.  47.  74. 295. 101. 151. 127. 237. 225.  81. 151. 107.  64.\n",
            " 138. 185. 265. 101. 137. 143. 141.  79. 292. 178.  91. 116.  86. 122.\n",
            "  72. 129. 142.  90. 158.  39. 196. 222. 277.  99. 196. 202. 155.  77.\n",
            " 191.  70.  73.  49.  65. 263. 248. 296. 214. 185.  78.  93. 252. 150.\n",
            "  77. 208.  77. 108. 160.  53. 220. 154. 259.  90. 246. 124.  67.  72.\n",
            " 257. 262. 275. 177.  71.  47. 187. 125.  78.  51. 258. 215. 303. 243.\n",
            "  91. 150. 310. 153. 346.  63.  89.  50.  39. 103. 308. 116. 145.  74.\n",
            "  45. 115. 264.  87. 202. 127. 182. 241.  66.  94. 283.  64. 102. 200.\n",
            " 265.  94. 230. 181. 156. 233.  60. 219.  80.  68. 332. 248.  84. 200.\n",
            "  55.  85.  89.  31. 129.  83. 275.  65. 198. 236. 253. 124.  44. 172.\n",
            " 114. 142. 109. 180. 144. 163. 147.  97. 220. 190. 109. 191. 122. 230.\n",
            " 242. 248. 249. 192. 131. 237.  78. 135. 244. 199. 270. 164.  72.  96.\n",
            " 306.  91. 214.  95. 216. 263. 178. 113. 200. 139. 139.  88. 148.  88.\n",
            " 243.  71.  77. 109. 272.  60.  54. 221.  90. 311. 281. 182. 321.  58.\n",
            " 262. 206. 233. 242. 123. 167.  63. 197.  71. 168. 140. 217. 121. 235.\n",
            " 245.  40.  52. 104. 132.  88.  69. 219.  72. 201. 110.  51. 277.  63.\n",
            " 118.  69. 273. 258.  43. 198. 242. 232. 175.  93. 168. 275. 293. 281.\n",
            "  72. 140. 189. 181. 209. 136. 261. 113. 131. 174. 257.  55.  84.  42.\n",
            " 146. 212. 233.  91. 111. 152. 120.  67. 310.  94. 183.  66. 173.  72.\n",
            "  49.  64.  48. 178. 104. 132. 220.  57.]\n"
          ],
          "name": "stdout"
        }
      ]
    },
    {
      "cell_type": "code",
      "metadata": {
        "id": "5msdnhJZyplt"
      },
      "source": [
        "# Use only one feature\n",
        "data_X = data_X[:, np.newaxis, 2]\n",
        "\n",
        "# Split the data into training/testing sets\n",
        "data_X_train = data_X[:-30]\n",
        "data_X_test = data_X[-30:]\n",
        "\n",
        "# Split the targets into training/testing sets\n",
        "data_y_train = data_y[:-30]\n",
        "data_y_test = data_y[-30:]"
      ],
      "execution_count": 5,
      "outputs": []
    },
    {
      "cell_type": "code",
      "metadata": {
        "id": "dMTiQwWl0DEy",
        "outputId": "62ec072b-6141-4118-e9c6-3b8ed810033f",
        "colab": {
          "base_uri": "https://localhost:8080/"
        }
      },
      "source": [
        "# Create linear regression object\n",
        "model = linear_model.LinearRegression()\n",
        "\n",
        "# Train the model using the training sets\n",
        "model.fit(data_X_train, data_y_train)"
      ],
      "execution_count": 6,
      "outputs": [
        {
          "output_type": "execute_result",
          "data": {
            "text/plain": [
              "LinearRegression(copy_X=True, fit_intercept=True, n_jobs=None, normalize=False)"
            ]
          },
          "metadata": {
            "tags": []
          },
          "execution_count": 6
        }
      ]
    },
    {
      "cell_type": "code",
      "metadata": {
        "id": "i5HtkpqX0Tjt",
        "outputId": "0684bc81-bda9-49b5-a757-6cd61ccf5ea7",
        "colab": {
          "base_uri": "https://localhost:8080/"
        }
      },
      "source": [
        "# The coefficients\n",
        "print('Regression Coefficients: \\n', model.coef_)\n",
        "# Intercept\n",
        "print('Intercept: \\n', model.intercept_)"
      ],
      "execution_count": 7,
      "outputs": [
        {
          "output_type": "stream",
          "text": [
            "Regression Coefficients: \n",
            " [941.43097333]\n",
            "Intercept: \n",
            " 153.39713623331698\n"
          ],
          "name": "stdout"
        }
      ]
    },
    {
      "cell_type": "code",
      "metadata": {
        "id": "PGNqNUzk0jbI"
      },
      "source": [
        "# Calculate diabetes progression based on the linear regression equation obtained from the above model fit\n",
        "def predict(bmi):\n",
        "  # print('hi')\n",
        "  coeff = 938.23786125\n",
        "  intercept = 152.91886182616167\n",
        "  diabetes_progression = (coeff * bmi) + intercept\n",
        "  return diabetes_progression"
      ],
      "execution_count": 8,
      "outputs": []
    },
    {
      "cell_type": "code",
      "metadata": {
        "id": "hN1xZs8c2aBg",
        "outputId": "ac578b2e-831c-4bcd-c1d6-a613313fcb2b",
        "colab": {
          "base_uri": "https://localhost:8080/"
        }
      },
      "source": [
        "# test using one of the bmi values\n",
        "dp = predict(-0.05147406)\n",
        "print(dp)"
      ],
      "execution_count": 9,
      "outputs": [
        {
          "output_type": "stream",
          "text": [
            "104.6239498619075\n"
          ],
          "name": "stdout"
        }
      ]
    },
    {
      "cell_type": "code",
      "metadata": {
        "id": "HprUEptt3HUd",
        "outputId": "0d4ddce1-6db0-489c-a00a-a680230e7546",
        "colab": {
          "base_uri": "https://localhost:8080/"
        }
      },
      "source": [
        "pip install Pyfhel"
      ],
      "execution_count": 10,
      "outputs": [
        {
          "output_type": "stream",
          "text": [
            "Requirement already satisfied: Pyfhel in /usr/local/lib/python3.6/dist-packages (2.2.4)\n",
            "Requirement already satisfied: setuptools>=45.0.0 in /usr/local/lib/python3.6/dist-packages (from Pyfhel) (50.3.2)\n",
            "Requirement already satisfied: cython>=0.29.2 in /usr/local/lib/python3.6/dist-packages (from Pyfhel) (0.29.21)\n",
            "Requirement already satisfied: numpy>=1.16.0 in /usr/local/lib/python3.6/dist-packages (from Pyfhel) (1.18.5)\n"
          ],
          "name": "stdout"
        }
      ]
    },
    {
      "cell_type": "code",
      "metadata": {
        "id": "uWnZU5tk4ehU"
      },
      "source": [
        "from Pyfhel import Pyfhel, PyPtxt, PyCtxt"
      ],
      "execution_count": 11,
      "outputs": []
    },
    {
      "cell_type": "code",
      "metadata": {
        "id": "RZELB94T4m3m",
        "outputId": "4febf64d-fbc3-4af1-d184-f5a24955626b",
        "colab": {
          "base_uri": "https://localhost:8080/"
        }
      },
      "source": [
        "HE = Pyfhel()\n",
        "# Creating Context and KeyGen in Pyfhel object. Using 64 buts for integer part and 32 bits for decimal part\n",
        "HE.contextGen(p=65537, base=2, intDigits=64, fracDigits = 32) \n",
        "HE.keyGen()\n",
        "print(HE)"
      ],
      "execution_count": 12,
      "outputs": [
        {
          "output_type": "stream",
          "text": [
            "<Pyfhel obj at 0x7f8e8aaaea50, [pk:Y, sk:Y, rtk:-, rlk:-, contx(p=65537, m=2048, base=2, sec=128, dig=64i.32f, batch=False)]>\n"
          ],
          "name": "stdout"
        }
      ]
    },
    {
      "cell_type": "code",
      "metadata": {
        "id": "eLiIPmOG40NM"
      },
      "source": [
        "# Calculating diabetes projection using equation given below\n",
        "# diabetes_projection = coeff * bmi + intercept\n",
        "def predict_encrypted(ctxt1):\n",
        "  intercept = 152.91886182616167\n",
        "  ctxt2 = HE.encryptFrac(intercept)\n",
        "\n",
        "  coeff = 938.23786125\n",
        "  ctxt3 = HE.encryptFrac(coeff)\n",
        "\n",
        "  ctxtmul = ctxt3 * ctxt1\n",
        "  ctxtsum = ctxtmul + ctxt2\n",
        "  # resSum = HE.decryptFrac(ctxtsum)\n",
        "  return ctxtsum\n",
        "  # print(resSum)\n",
        "  # return ctxtsum\n",
        "# print(ctxt1)\n",
        "# print(ctxt2)\n",
        "# print(ctxt3)"
      ],
      "execution_count": 13,
      "outputs": []
    },
    {
      "cell_type": "code",
      "metadata": {
        "id": "FuEO5hglko8s",
        "outputId": "0236de4d-9f18-4b73-95a8-868ac42519d1",
        "colab": {
          "base_uri": "https://localhost:8080/"
        }
      },
      "source": [
        "# predict for bmi using encryption\n",
        "bmi1 = -0.0730303\n",
        "ctxt1 = HE.encryptFrac(bmi1)\n",
        "dp_encrypted = predict_encrypted(ctxt1)\n",
        "dp = HE.decryptFrac(dp_encrypted)\n",
        "print(dp)"
      ],
      "execution_count": 14,
      "outputs": [
        {
          "output_type": "stream",
          "text": [
            "84.39906937489286\n"
          ],
          "name": "stdout"
        }
      ]
    },
    {
      "cell_type": "code",
      "metadata": {
        "id": "2qI-RT3d6znN",
        "outputId": "281cf472-7431-4f17-e4ba-5b8b60e075fa",
        "colab": {
          "base_uri": "https://localhost:8080/"
        }
      },
      "source": [
        "# predict for the same value of bmi without encryption\n",
        "predict(-0.0730303)"
      ],
      "execution_count": 15,
      "outputs": [
        {
          "output_type": "execute_result",
          "data": {
            "text/plain": [
              "84.3990693477158"
            ]
          },
          "metadata": {
            "tags": []
          },
          "execution_count": 15
        }
      ]
    },
    {
      "cell_type": "code",
      "metadata": {
        "id": "zDPTy9Z2lzun"
      },
      "source": [
        "# Generating predictions on test data using sklearn's model\n",
        "test_predict = model.predict(data_X_test)"
      ],
      "execution_count": 16,
      "outputs": []
    },
    {
      "cell_type": "code",
      "metadata": {
        "id": "gYuJ0--imDaw"
      },
      "source": [
        "encrypted_test_predict = []\n",
        "for bmi in data_X_test:\n",
        "  ctxt = HE.encryptFrac(bmi)\n",
        "  dp = predict_encrypted(ctxt)\n",
        "  encrypted_test_predict.append(HE.decryptFrac(dp))\n"
      ],
      "execution_count": 23,
      "outputs": []
    },
    {
      "cell_type": "code",
      "metadata": {
        "id": "SeiTI76mnRzj",
        "outputId": "4cb8e558-0cae-474e-801c-5fa7abb9d1e7",
        "colab": {
          "base_uri": "https://localhost:8080/"
        }
      },
      "source": [
        "# R2 score for values predicted with and without encyption\n",
        "r2_score(test_predict, encrypted_test_predict)"
      ],
      "execution_count": 25,
      "outputs": [
        {
          "output_type": "execute_result",
          "data": {
            "text/plain": [
              "0.9998774257026259"
            ]
          },
          "metadata": {
            "tags": []
          },
          "execution_count": 25
        }
      ]
    },
    {
      "cell_type": "code",
      "metadata": {
        "id": "xrWQCm0yoD-O",
        "outputId": "2540dc6d-debd-430d-aaf1-339857097f3c",
        "colab": {
          "base_uri": "https://localhost:8080/"
        }
      },
      "source": [
        "r2_score(data_y_test, test_predict)"
      ],
      "execution_count": 26,
      "outputs": [
        {
          "output_type": "execute_result",
          "data": {
            "text/plain": [
              "0.41092072813583513"
            ]
          },
          "metadata": {
            "tags": []
          },
          "execution_count": 26
        }
      ]
    },
    {
      "cell_type": "code",
      "metadata": {
        "id": "OGkkM3-Cogyt",
        "outputId": "16094b94-a800-48ee-d01e-3d4c326347c3",
        "colab": {
          "base_uri": "https://localhost:8080/"
        }
      },
      "source": [
        "r2_score(data_y_test, encrypted_test_predict)"
      ],
      "execution_count": 27,
      "outputs": [
        {
          "output_type": "execute_result",
          "data": {
            "text/plain": [
              "0.4139985851963136"
            ]
          },
          "metadata": {
            "tags": []
          },
          "execution_count": 27
        }
      ]
    },
    {
      "cell_type": "code",
      "metadata": {
        "id": "ufW3ebuooxNc",
        "outputId": "7ed07b4c-bd2e-4ddb-ce1a-28a35be46601",
        "colab": {
          "base_uri": "https://localhost:8080/",
          "height": 252
        }
      },
      "source": [
        "# Plot outputs\n",
        "plt.scatter(data_X_test, data_y_test,  color='black')\n",
        "plt.plot(data_X_test, encrypted_test_predict, color='blue', linewidth=3)\n",
        "\n",
        "plt.xticks(())\n",
        "plt.yticks(())\n",
        "\n",
        "plt.show()"
      ],
      "execution_count": 28,
      "outputs": [
        {
          "output_type": "display_data",
          "data": {
            "image/png": "[encoded data removed]",
            "text/plain": [
              "<Figure size 432x288 with 1 Axes>"
            ]
          },
          "metadata": {
            "tags": []
          }
        }
      ]
    }
  ]
}